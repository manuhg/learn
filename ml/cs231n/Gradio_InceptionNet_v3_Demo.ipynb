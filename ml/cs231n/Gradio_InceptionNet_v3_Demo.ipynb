{
  "nbformat": 4,
  "nbformat_minor": 0,
  "metadata": {
    "colab": {
      "name": "Gradio InceptionNet v3 Demo.ipynb",
      "version": "0.3.2",
      "provenance": [],
      "collapsed_sections": []
    },
    "kernelspec": {
      "name": "python3",
      "display_name": "Python 3"
    }
  },
  "cells": [
    {
      "metadata": {
        "id": "D_-55XdJy-Ml",
        "colab_type": "text"
      },
      "cell_type": "markdown",
      "source": [
        "<img src=\"https://gradio.app/static/landing/img/logo_inline.png\" width=\"200px\">"
      ]
    },
    {
      "metadata": {
        "id": "mDmSzM9NyosO",
        "colab_type": "text"
      },
      "cell_type": "markdown",
      "source": [
        "Here's a short example notebook that demonstrates how to use the `gradio` python package. \n",
        "\n",
        "We will build a **visual interface** for InceptionNet, a state-of-the-art image classifier."
      ]
    },
    {
      "metadata": {
        "id": "5QEZxZWWyTKi",
        "colab_type": "text"
      },
      "cell_type": "markdown",
      "source": [
        "## Install the `gradio` python package and import it"
      ]
    },
    {
      "metadata": {
        "id": "dGYdHy3eEIpL",
        "colab_type": "code",
        "colab": {}
      },
      "cell_type": "code",
      "source": [
        "!pip install gradio -q"
      ],
      "execution_count": 0,
      "outputs": []
    },
    {
      "metadata": {
        "id": "hA6BTuNtELa9",
        "colab_type": "code",
        "colab": {}
      },
      "cell_type": "code",
      "source": [
        "import tensorflow as tf\n",
        "import gradio"
      ],
      "execution_count": 0,
      "outputs": []
    },
    {
      "metadata": {
        "id": "UThilKiayYz7",
        "colab_type": "text"
      },
      "cell_type": "markdown",
      "source": [
        "## Load (or train) your own model"
      ]
    },
    {
      "metadata": {
        "id": "Tz7p6MOEEOA9",
        "colab_type": "code",
        "outputId": "ca00d083-15b3-4ff4-b24b-59c04eaa4437",
        "colab": {
          "base_uri": "https://localhost:8080/",
          "height": 123
        }
      },
      "cell_type": "code",
      "source": [
        "model = tf.keras.applications.inception_v3.InceptionV3()"
      ],
      "execution_count": 0,
      "outputs": [
        {
          "output_type": "stream",
          "text": [
            "WARNING:tensorflow:From /usr/local/lib/python3.6/dist-packages/tensorflow/python/ops/resource_variable_ops.py:435: colocate_with (from tensorflow.python.framework.ops) is deprecated and will be removed in a future version.\n",
            "Instructions for updating:\n",
            "Colocations handled automatically by placer.\n",
            "Downloading data from https://github.com/fchollet/deep-learning-models/releases/download/v0.5/inception_v3_weights_tf_dim_ordering_tf_kernels.h5\n",
            "96116736/96112376 [==============================] - 1s 0us/step\n"
          ],
          "name": "stdout"
        }
      ]
    },
    {
      "metadata": {
        "id": "YohC2oGEyesA",
        "colab_type": "text"
      },
      "cell_type": "markdown",
      "source": [
        "## Define the input and output interfaces"
      ]
    },
    {
      "metadata": {
        "id": "X_izWp0WEUCd",
        "colab_type": "code",
        "colab": {}
      },
      "cell_type": "code",
      "source": [
        "inp = gradio.inputs.ImageUpload(shape=(299, 299, 3))\n",
        "out = gradio.outputs.Label(label_names='imagenet1000', max_label_length=8)\n",
        "\n",
        "io = gradio.Interface(inputs=inp, \n",
        "                      outputs=out,\n",
        "                      model=model, \n",
        "                      model_type='keras')"
      ],
      "execution_count": 0,
      "outputs": []
    },
    {
      "metadata": {
        "id": "eEAFNJhKyje6",
        "colab_type": "text"
      },
      "cell_type": "markdown",
      "source": [
        "## Launch the Interfaces"
      ]
    },
    {
      "metadata": {
        "id": "jv72dJ79XymV",
        "colab_type": "code",
        "colab": {}
      },
      "cell_type": "code",
      "source": [
        "io.launch();"
      ],
      "execution_count": 0,
      "outputs": []
    },
    {
      "metadata": {
        "id": "c4e2UiXa1ckn",
        "colab_type": "text"
      },
      "cell_type": "markdown",
      "source": [
        "**And that's it!**"
      ]
    },
    {
      "metadata": {
        "id": "DCBBBnX3zTyl",
        "colab_type": "text"
      },
      "cell_type": "markdown",
      "source": [
        "## What's next?"
      ]
    },
    {
      "metadata": {
        "id": "4u-QXapJzko7",
        "colab_type": "text"
      },
      "cell_type": "markdown",
      "source": [
        "Check out **www.gradio.app** for more examples and documentation. \n",
        "\n",
        "For updates on the `gradio` package (and a sneak peek of beta features), join the [**mailing list**](https://gradio.app/contact.html).\n",
        "\n",
        "And if you have any suggestions, you can reach us at **[gradio.app@gmail.com](mailto:gradio.app@gmail.com)** (and please do!)"
      ]
    }
  ]
}