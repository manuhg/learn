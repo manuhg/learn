{
 "cells": [
  {
   "cell_type": "code",
   "execution_count": 1,
   "metadata": {
    "_uuid": "680a7c62a279452d92550fb365f686d66bb1f7ef",
    "colab": {},
    "colab_type": "code",
    "id": "a192xmwKijHs"
   },
   "outputs": [],
   "source": [
    "import os\n",
    "import sys\n",
    "import pickle\n",
    "import numpy as np\n",
    "import pandas as pd\n",
    "from PIL import Image, ImageFilter\n",
    "from tqdm import tqdm_notebook\n",
    "from sklearn.preprocessing import StandardScaler\n",
    "from sklearn.metrics import accuracy_score, mean_squared_error, log_loss, confusion_matrix\n",
    "import matplotlib.pyplot as plt\n",
    "\n",
    "seed = 10\n",
    "np.random.seed(seed)\n",
    "LEVEL = 'level_2'"
   ]
  },
  {
   "cell_type": "code",
   "execution_count": 2,
   "metadata": {
    "_uuid": "110f36fa9346fcfd0960acacd04996f46c9ac3c1"
   },
   "outputs": [],
   "source": [
    "def data_scale(data,scaler_class,cols_to_scale,drop_cols,scale_all=False,idcol='PhoneId',data_train_scaler=None):\n",
    "    scaler = scaler_class() if not data_train_scaler else data_train_scaler\n",
    "    if scale_all:\n",
    "        scaled = data.drop(drop_cols,axis=1)\n",
    "        cols = scaled.columns\n",
    "        if not data_train_scaler:\n",
    "            scaler.fit(scaled)\n",
    "        scaled[cols] = scaler.transform(scaled)\n",
    "        data = scaled\n",
    "    else:\n",
    "        scaled,notscaled = data[cols_to_scale],data.drop(cols_to_scale,axis=1)\n",
    "        if not data_train_scaler:\n",
    "            scaler.fit(scaled)\n",
    "        scaled[cols_to_scale] = scaler.transform(scaled)\n",
    "        scaled[idcol] = data[idcol]\n",
    "        data = scaled.merge(notscaled,on=idcol)\n",
    "        data = data.drop(drop_cols,axis=1)\n",
    "    return data,scaler"
   ]
  },
  {
   "cell_type": "code",
   "execution_count": 3,
   "metadata": {
    "_uuid": "fab6824f071dcd9355f06e20bbf4591b477d103c",
    "colab": {},
    "colab_type": "code",
    "id": "fIuRdSezijHx"
   },
   "outputs": [],
   "source": [
    "class SigmoidNeuron:\n",
    "\n",
    "    def __init__(self):\n",
    "        self.w = None\n",
    "        self.b = None\n",
    "        np.random.seed(seed)\n",
    "\n",
    "    def perceptron(self, x):\n",
    "        return np.dot(x, self.w.T) + self.b\n",
    "\n",
    "    def sigmoid(self, x):\n",
    "        return 1.0/(1.0 + np.exp(-x))\n",
    "\n",
    "    def grad_w_mse(self, x, y):\n",
    "        y_pred = self.sigmoid(self.perceptron(x))\n",
    "        return (y_pred - y) * y_pred * (1 - y_pred) * x\n",
    "\n",
    "    def grad_b_mse(self, x, y):\n",
    "        y_pred = self.sigmoid(self.perceptron(x))\n",
    "        return (y_pred - y) * y_pred * (1 - y_pred)\n",
    "\n",
    "    def grad_w_ce(self, x, y):\n",
    "        y_pred = self.sigmoid(self.perceptron(x))\n",
    "        if y == 0:\n",
    "            return y_pred * x\n",
    "        elif y == 1:\n",
    "            return -1 * (1 - y_pred) * x\n",
    "        else:\n",
    "            raise ValueError(\"y should be 0 or 1\")\n",
    "\n",
    "    def grad_b_ce(self, x, y):\n",
    "        y_pred = self.sigmoid(self.perceptron(x))\n",
    "        if y == 0:\n",
    "            return y_pred\n",
    "        elif y == 1:\n",
    "            return -1 * (1 - y_pred)\n",
    "        else:\n",
    "            raise ValueError(\"y should be 0 or 1\")\n",
    "\n",
    "    def fit(self, X, Y, epochs=1, learning_rate=1, initialise=True, loss_fn=\"mse\", display_loss=False,steps=2,step_factor=1/2):\n",
    "\n",
    "        # initialise w, b\n",
    "        if initialise:\n",
    "            self.w = np.random.normal(size=(1, X.shape[1]))\n",
    "            self.b = np.random.normal(1)\n",
    "\n",
    "        if display_loss:\n",
    "            loss = {}\n",
    "\n",
    "        for i in tqdm_notebook(range(epochs), total=epochs, unit=\"epoch\"):\n",
    "            dw = 0\n",
    "            db = 0\n",
    "            if i % int(epochs/steps) ==0:\n",
    "                print('epoch',i,'multiply lr by',step_factor,end=' ')\n",
    "                learning_rate = learning_rate*step_factor\n",
    "                print('new lr =',learning_rate)\n",
    "            for x, y in zip(X, Y):\n",
    "                if loss_fn == \"mse\":\n",
    "                    dw += self.grad_w_mse(x, y)\n",
    "                    db += self.grad_b_mse(x, y)\n",
    "                elif loss_fn == \"ce\":\n",
    "                    dw += self.grad_w_ce(x, y)\n",
    "                    db += self.grad_b_ce(x, y)\n",
    "            self.w -= learning_rate * dw\n",
    "            self.b -= learning_rate * db\n",
    "\n",
    "            if display_loss:\n",
    "                Y_pred = self.sigmoid(self.perceptron(X))\n",
    "                if loss_fn == \"mse\":\n",
    "                    loss[i] = mean_squared_error(Y, Y_pred)\n",
    "                elif loss_fn == \"ce\":\n",
    "                    loss[i] = log_loss(Y, Y_pred)\n",
    "\n",
    "        if display_loss:\n",
    "            plt.plot(loss.values())\n",
    "            plt.xlabel('Epochs')\n",
    "            if loss_fn == \"mse\":\n",
    "                plt.ylabel('Mean Squared Error')\n",
    "            elif loss_fn == \"ce\":\n",
    "                plt.ylabel('Log Loss')\n",
    "            plt.show()\n",
    "            print('loss:',loss[epochs-1])\n",
    "\n",
    "    def predict(self, X):\n",
    "        Y_pred = []\n",
    "        for x in X:\n",
    "            y_pred = self.sigmoid(self.perceptron(x))\n",
    "            Y_pred.append(y_pred)\n",
    "        return np.array(Y_pred)\n"
   ]
  },
  {
   "cell_type": "code",
   "execution_count": 4,
   "metadata": {
    "_uuid": "5e95eeae5866be70d2d26edd5d284c9d5e140f1a",
    "colab": {},
    "colab_type": "code",
    "id": "VDe2wjl_ijH0"
   },
   "outputs": [],
   "source": [
    "def read_all(folder_path, key_prefix=\"\"):\n",
    "    '''\n",
    "    It returns a dictionary with 'file names' as keys and 'flattened image arrays' as values.\n",
    "    '''\n",
    "    print(\"Reading:\")\n",
    "    images = {}\n",
    "    files = os.listdir(folder_path)\n",
    "    for i, file_name in tqdm_notebook(enumerate(files), total=len(files)):\n",
    "        file_path = os.path.join(folder_path, file_name)\n",
    "        image_index = key_prefix + file_name[:-4]\n",
    "        image = Image.open(file_path)\n",
    "        image = image.convert(\"L\")\n",
    "        images[image_index] = np.array(image.copy()).flatten()\n",
    "        image.close()\n",
    "    return images"
   ]
  },
  {
   "cell_type": "code",
   "execution_count": 5,
   "metadata": {
    "_uuid": "25d304c1f4669cefa055f3b4f2b5db6cb0aa07ae",
    "colab": {},
    "colab_type": "code",
    "id": "mjuaN532ijH4",
    "outputId": "4124ae5e-4a9c-44dc-8c84-7919e6927fe5"
   },
   "outputs": [
    {
     "name": "stdout",
     "output_type": "stream",
     "text": [
      "Reading:\n"
     ]
    },
    {
     "data": {
      "application/vnd.jupyter.widget-view+json": {
       "model_id": "10c9083aecfc45da966749a447dd055d",
       "version_major": 2,
       "version_minor": 0
      },
      "text/plain": [
       "HBox(children=(IntProgress(value=0, max=450), HTML(value='')))"
      ]
     },
     "metadata": {},
     "output_type": "display_data"
    },
    {
     "name": "stdout",
     "output_type": "stream",
     "text": [
      "\n",
      "Reading:\n"
     ]
    },
    {
     "data": {
      "application/vnd.jupyter.widget-view+json": {
       "model_id": "b6972606b4564562b3542dbf2cdc83f4",
       "version_major": 2,
       "version_minor": 0
      },
      "text/plain": [
       "HBox(children=(IntProgress(value=0, max=150), HTML(value='')))"
      ]
     },
     "metadata": {},
     "output_type": "display_data"
    },
    {
     "name": "stdout",
     "output_type": "stream",
     "text": [
      "\n",
      "Reading:\n"
     ]
    },
    {
     "data": {
      "application/vnd.jupyter.widget-view+json": {
       "model_id": "e155ccca3b0d46218829241558e16734",
       "version_major": 2,
       "version_minor": 0
      },
      "text/plain": [
       "HBox(children=(IntProgress(value=0, max=150), HTML(value='')))"
      ]
     },
     "metadata": {},
     "output_type": "display_data"
    },
    {
     "name": "stdout",
     "output_type": "stream",
     "text": [
      "\n",
      "Reading:\n"
     ]
    },
    {
     "data": {
      "application/vnd.jupyter.widget-view+json": {
       "model_id": "6c96f0608fbb4857a9d41e09ed4bfe5b",
       "version_major": 2,
       "version_minor": 0
      },
      "text/plain": [
       "HBox(children=(IntProgress(value=0, max=150), HTML(value='')))"
      ]
     },
     "metadata": {},
     "output_type": "display_data"
    },
    {
     "name": "stdout",
     "output_type": "stream",
     "text": [
      "\n",
      "900\n",
      "Reading:\n"
     ]
    },
    {
     "data": {
      "application/vnd.jupyter.widget-view+json": {
       "model_id": "62614cd44aed4969aaf42c7908506b4a",
       "version_major": 2,
       "version_minor": 0
      },
      "text/plain": [
       "HBox(children=(IntProgress(value=0, max=300), HTML(value='')))"
      ]
     },
     "metadata": {},
     "output_type": "display_data"
    },
    {
     "name": "stdout",
     "output_type": "stream",
     "text": [
      "\n",
      "300\n"
     ]
    }
   ],
   "source": [
    "languages = ['ta', 'hi', 'en']\n",
    "basedir_train = '../input/'+LEVEL+'_train/'\n",
    "basedir_test = '../input/'+LEVEL+'_test/'\n",
    "images_train = read_all(basedir_train+LEVEL+\"/\"+\"background\", key_prefix='bgr_') # change the path\n",
    "for language in languages:\n",
    "      images_train.update(read_all(basedir_train+LEVEL+\"/\"+language, key_prefix=language+\"_\" ))\n",
    "print(len(images_train))\n",
    "\n",
    "images_test = read_all(basedir_test+\"kaggle_\"+LEVEL, key_prefix='') # change the path\n",
    "print(len(images_test))"
   ]
  },
  {
   "cell_type": "code",
   "execution_count": 6,
   "metadata": {
    "_uuid": "ed366a6a096c2c667debb4377b182c9b83702c6d",
    "colab": {},
    "colab_type": "code",
    "id": "xqcTJRmSijH-",
    "outputId": "3a26f608-868b-498d-b18d-bfae2b452d4e"
   },
   "outputs": [
    {
     "data": {
      "text/plain": [
       "['39', '150', '199', '146', '281']"
      ]
     },
     "execution_count": 6,
     "metadata": {},
     "output_type": "execute_result"
    }
   ],
   "source": [
    "list(images_test.keys())[:5]"
   ]
  },
  {
   "cell_type": "code",
   "execution_count": 7,
   "metadata": {
    "_uuid": "e792d151cd7cabfe1a4d72cb21b7223291dc1cc1",
    "colab": {},
    "colab_type": "code",
    "id": "yQUKxV_FijIC",
    "outputId": "e6f2538b-3285-49ea-d6fd-7fbadc2bb975"
   },
   "outputs": [
    {
     "name": "stdout",
     "output_type": "stream",
     "text": [
      "(900, 256) (900, 1)\n",
      "(300, 256)\n"
     ]
    }
   ],
   "source": [
    "X_train = []\n",
    "Y_train = []\n",
    "for key, value in images_train.items():\n",
    "    X_train.append(value)\n",
    "    if key[:4] == \"bgr_\":\n",
    "        Y_train.append(0)\n",
    "    else:\n",
    "        Y_train.append(1)\n",
    "\n",
    "ID_test = []\n",
    "X_test = []\n",
    "for key, value in images_test.items():\n",
    "    ID_test.append(int(key))\n",
    "    X_test.append(value)\n",
    "\n",
    "X_train = np.array(X_train)\n",
    "Y_train = np.array(Y_train).reshape(-1,1)\n",
    "X_test = np.array(X_test)\n",
    "\n",
    "print(X_train.shape, Y_train.shape)\n",
    "print(X_test.shape)"
   ]
  },
  {
   "cell_type": "code",
   "execution_count": 8,
   "metadata": {
    "_uuid": "3554fba75669e87e6b66e92e76af8c5aae021eb4",
    "colab": {},
    "colab_type": "code",
    "id": "wy3IKx26ijIG",
    "outputId": "f571f85d-1fe6-4a33-bcf1-ca1574aa3709"
   },
   "outputs": [
    {
     "name": "stderr",
     "output_type": "stream",
     "text": [
      "/opt/conda/lib/python3.6/site-packages/sklearn/utils/validation.py:595: DataConversionWarning: Data with input dtype uint8 was converted to float64 by StandardScaler.\n",
      "  warnings.warn(msg, DataConversionWarning)\n",
      "/opt/conda/lib/python3.6/site-packages/sklearn/utils/validation.py:595: DataConversionWarning: Data with input dtype uint8 was converted to float64 by StandardScaler.\n",
      "  warnings.warn(msg, DataConversionWarning)\n",
      "/opt/conda/lib/python3.6/site-packages/sklearn/utils/validation.py:595: DataConversionWarning: Data with input dtype uint8 was converted to float64 by StandardScaler.\n",
      "  warnings.warn(msg, DataConversionWarning)\n"
     ]
    }
   ],
   "source": [
    "scaler = StandardScaler()\n",
    "X_scaled_train = scaler.fit_transform(X_train)\n",
    "X_scaled_test = scaler.transform(X_test)"
   ]
  },
  {
   "cell_type": "code",
   "execution_count": 9,
   "metadata": {
    "_uuid": "771fef18bfccdb99ea319087916231c392540de4",
    "colab": {},
    "colab_type": "code",
    "id": "547SFsgsijIO",
    "outputId": "e6595d5e-a9e0-4b5f-f7b5-a56297bc69c0"
   },
   "outputs": [
    {
     "data": {
      "application/vnd.jupyter.widget-view+json": {
       "model_id": "0d7339b037144402bd431366ecd731f5",
       "version_major": 2,
       "version_minor": 0
      },
      "text/plain": [
       "HBox(children=(IntProgress(value=0, max=200), HTML(value='')))"
      ]
     },
     "metadata": {},
     "output_type": "display_data"
    },
    {
     "name": "stdout",
     "output_type": "stream",
     "text": [
      "epoch 0 multiply lr by 0.5 new lr = 0.03\n",
      "epoch 50 multiply lr by 0.5 new lr = 0.015\n",
      "epoch 100 multiply lr by 0.5 new lr = 0.0075\n",
      "epoch 150 multiply lr by 0.5 new lr = 0.00375\n",
      "\n"
     ]
    },
    {
     "data": {
      "image/png": "[encoded data removed]",
      "text/plain": [
       "<Figure size 432x288 with 1 Axes>"
      ]
     },
     "metadata": {},
     "output_type": "display_data"
    },
    {
     "name": "stdout",
     "output_type": "stream",
     "text": [
      "loss: 6.940908753310012e-06\n"
     ]
    }
   ],
   "source": [
    "sn = SigmoidNeuron()\n",
    "sn.fit(X_scaled_train, Y_train, epochs=200, learning_rate=0.015*4, loss_fn=\"ce\", display_loss=True,steps=4)"
   ]
  },
  {
   "cell_type": "code",
   "execution_count": 10,
   "metadata": {
    "_uuid": "f838458a7cd2aed7ff43bad65960126714a16d02",
    "colab": {},
    "colab_type": "code",
    "id": "_a3_-9zYijIS"
   },
   "outputs": [],
   "source": [
    "def print_accuracy(sn):\n",
    "    Y_pred_train = sn.predict(X_scaled_train)\n",
    "    Y_pred_binarised_train = (Y_pred_train >= 0.5).astype(\"int\").ravel()\n",
    "    accuracy_train = accuracy_score(Y_pred_binarised_train, Y_train)\n",
    "    print(\"Train Accuracy : \", accuracy_train)\n",
    "    print(\"-\"*50)"
   ]
  },
  {
   "cell_type": "code",
   "execution_count": 11,
   "metadata": {
    "_uuid": "c69e2fdddd61da6e713d5115d33970d512d1f09a",
    "colab": {},
    "colab_type": "code",
    "id": "lqe2g9PLijIW",
    "outputId": "0ce4b45c-78f5-4323-829b-db3e12c3f268"
   },
   "outputs": [
    {
     "name": "stdout",
     "output_type": "stream",
     "text": [
      "Train Accuracy :  1.0\n",
      "--------------------------------------------------\n"
     ]
    }
   ],
   "source": [
    "print_accuracy(sn)"
   ]
  },
  {
   "cell_type": "markdown",
   "metadata": {
    "_uuid": "2ab00381e497b98509ae9ba90d14e5b3d8f3b057",
    "colab_type": "text",
    "id": "8IMv7SCUijIa"
   },
   "source": [
    "## Sample Submission"
   ]
  },
  {
   "cell_type": "code",
   "execution_count": 12,
   "metadata": {
    "_uuid": "aeb9c0fde828388bb808d324283f02d6115b9a59",
    "colab": {},
    "colab_type": "code",
    "id": "4_pBsgYlijIb"
   },
   "outputs": [],
   "source": [
    "Y_pred_test = sn.predict(X_scaled_test)\n",
    "Y_pred_binarised_test = (Y_pred_test >= 0.5).astype(\"int\").ravel()\n",
    "\n",
    "submission = {}\n",
    "submission['ImageId'] = ID_test\n",
    "submission['Class'] = Y_pred_binarised_test\n",
    "\n",
    "submission = pd.DataFrame(submission)\n",
    "submission = submission[['ImageId', 'Class']]\n",
    "submission = submission.sort_values(['ImageId'])\n",
    "submission.to_csv(\"submisision.csv\", index=False)"
   ]
  },
  {
   "cell_type": "code",
   "execution_count": 13,
   "metadata": {
    "_uuid": "1cbfdb27dee597029078fa49bb8b40aebff1c9f5",
    "colab": {},
    "colab_type": "code",
    "id": "LCkK3-CDijIe"
   },
   "outputs": [],
   "source": []
  }
 ],
 "metadata": {
  "colab": {
   "collapsed_sections": [],
   "name": "Text - Non Text Classification.ipynb",
   "provenance": [],
   "version": "0.3.2"
  },
  "kernelspec": {
   "display_name": "Python 3",
   "language": "python",
   "name": "python3"
  },
  "language_info": {
   "codemirror_mode": {
    "name": "ipython",
    "version": 3
   },
   "file_extension": ".py",
   "mimetype": "text/x-python",
   "name": "python",
   "nbconvert_exporter": "python",
   "pygments_lexer": "ipython3",
   "version": "3.6.6"
  }
 },
 "nbformat": 4,
 "nbformat_minor": 1
}
